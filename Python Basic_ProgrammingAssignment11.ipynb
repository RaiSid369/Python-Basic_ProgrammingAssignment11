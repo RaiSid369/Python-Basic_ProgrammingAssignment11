{
 "cells": [
  {
   "cell_type": "code",
   "execution_count": null,
   "id": "e6a95a55",
   "metadata": {},
   "outputs": [],
   "source": [
    "# Que 1. Write a Python program to find words which are greater than given length k?"
   ]
  },
  {
   "cell_type": "code",
   "execution_count": 12,
   "id": "b19d50ce",
   "metadata": {},
   "outputs": [
    {
     "name": "stdout",
     "output_type": "stream",
     "text": [
      "This\n",
      "program\n",
      "consist\n",
      "answers\n",
      "basic\n",
      "python\n",
      "programming\n",
      "assignment\n"
     ]
    }
   ],
   "source": [
    "# say k is 3 and string is \"This program consist of answers for basic python programming assignment - 10\"\n",
    "k = 3\n",
    "a = \"This program consist of answers for basic python programming assignment - 10\"\n",
    "b = a.split(\" \")\n",
    "for i in b:\n",
    "    if len(i) > k:\n",
    "        print(i)"
   ]
  },
  {
   "cell_type": "code",
   "execution_count": null,
   "id": "575dfda6",
   "metadata": {},
   "outputs": [],
   "source": []
  },
  {
   "cell_type": "code",
   "execution_count": null,
   "id": "e9860909",
   "metadata": {},
   "outputs": [],
   "source": [
    "# Que 2. Write a Python program for removing i-th character from a string?"
   ]
  },
  {
   "cell_type": "code",
   "execution_count": 13,
   "id": "3ce6a4d5",
   "metadata": {},
   "outputs": [
    {
     "name": "stdout",
     "output_type": "stream",
     "text": [
      "inuron\n"
     ]
    }
   ],
   "source": [
    "#say the string is ineuron and i-th term is 3rd term\n",
    "\n",
    "p = \"ineuron\"\n",
    "\n",
    "k = 3\n",
    "\n",
    "q = p[:k-1]+p[k:]\n",
    "\n",
    "print(q)"
   ]
  },
  {
   "cell_type": "code",
   "execution_count": null,
   "id": "4165332f",
   "metadata": {},
   "outputs": [],
   "source": []
  },
  {
   "cell_type": "code",
   "execution_count": 14,
   "id": "28f38192",
   "metadata": {},
   "outputs": [],
   "source": [
    "# Que 3. Write a Python program to split and join astring?# for splitting a string variable"
   ]
  },
  {
   "cell_type": "code",
   "execution_count": 15,
   "id": "2178393f",
   "metadata": {},
   "outputs": [
    {
     "name": "stdout",
     "output_type": "stream",
     "text": [
      "['This', 'is', 'a', 'python', 'proramming', 'code']\n",
      "This is a python proramming code\n"
     ]
    }
   ],
   "source": [
    "# for splitting a string variable\n",
    "a = \"This is a python proramming code\"\n",
    "b = a.split(\" \")\n",
    "print(b)\n",
    "# for joining a string variable\n",
    "c = b.copy()\n",
    "d = ' '.join(c)\n",
    "print(d)"
   ]
  },
  {
   "cell_type": "code",
   "execution_count": null,
   "id": "2cb3bc5a",
   "metadata": {},
   "outputs": [],
   "source": []
  },
  {
   "cell_type": "code",
   "execution_count": null,
   "id": "09586ff4",
   "metadata": {},
   "outputs": [],
   "source": [
    "# Que 4. Write a Python to check if a given string is binary string or not?"
   ]
  },
  {
   "cell_type": "code",
   "execution_count": 11,
   "id": "e803c631",
   "metadata": {},
   "outputs": [
    {
     "name": "stdout",
     "output_type": "stream",
     "text": [
      "10101 is binary\n"
     ]
    }
   ],
   "source": [
    "a = '10101'\n",
    "b = set(a)\n",
    "c = {'0','1'}\n",
    "if b == c or b == {'0'} or b == {'1'}:\n",
    "    print(a, 'is binary')\n",
    "else:\n",
    "    print(a, 'in not binary')"
   ]
  },
  {
   "cell_type": "code",
   "execution_count": null,
   "id": "ffc35edb",
   "metadata": {},
   "outputs": [],
   "source": []
  },
  {
   "cell_type": "code",
   "execution_count": null,
   "id": "240c103c",
   "metadata": {},
   "outputs": [],
   "source": [
    "# Que 5. Write a Python program to find uncommon words from two Strings?"
   ]
  },
  {
   "cell_type": "code",
   "execution_count": 16,
   "id": "f2ed49ab",
   "metadata": {},
   "outputs": [
    {
     "name": "stdout",
     "output_type": "stream",
     "text": [
      "first\n",
      "second\n"
     ]
    }
   ],
   "source": [
    "a = \"This is first string variable\"\n",
    "b = \"This is second string variable\"\n",
    "c = a.split(\" \")\n",
    "d = b.split(\" \")\n",
    "for i in c:\n",
    "    if i in d:\n",
    "        pass\n",
    "    else:\n",
    "        print(i)\n",
    "for i in d:\n",
    "    if i in c:\n",
    "        pass\n",
    "    else:\n",
    "        print(i)"
   ]
  },
  {
   "cell_type": "code",
   "execution_count": null,
   "id": "e8cb4179",
   "metadata": {},
   "outputs": [],
   "source": []
  },
  {
   "cell_type": "code",
   "execution_count": null,
   "id": "940e2aac",
   "metadata": {},
   "outputs": [],
   "source": [
    "# Que 6. Write a Python to find all duplicate characters in string?"
   ]
  },
  {
   "cell_type": "code",
   "execution_count": 17,
   "id": "e1f6ea2b",
   "metadata": {},
   "outputs": [
    {
     "name": "stdout",
     "output_type": "stream",
     "text": [
      "{'d', 'a', 'h', 'i'} have duplicate characters\n"
     ]
    }
   ],
   "source": [
    "a = \"Siddharth Rai\"\n",
    "l = []\n",
    "for i in range(0,len(a)):\n",
    "    for j in range(i+1,len(a)):\n",
    "        if a[i]==a[j]:\n",
    "            l.append(a[i])\n",
    "print(set(l), \"have duplicate characters\")"
   ]
  },
  {
   "cell_type": "code",
   "execution_count": null,
   "id": "29976681",
   "metadata": {},
   "outputs": [],
   "source": []
  },
  {
   "cell_type": "code",
   "execution_count": null,
   "id": "4ad808bc",
   "metadata": {},
   "outputs": [],
   "source": [
    "# Que 7. Write a Python Program to check if a string contains any special character?"
   ]
  },
  {
   "cell_type": "code",
   "execution_count": 18,
   "id": "caec1a8d",
   "metadata": {},
   "outputs": [
    {
     "name": "stdout",
     "output_type": "stream",
     "text": [
      "Enter the string: Hello World!\n",
      "Given string contains special characters\n"
     ]
    }
   ],
   "source": [
    "g = input(\"Enter the string: \")\n",
    "\n",
    "count = 0\n",
    "for i in range(0, len(g)):\n",
    "    if  g[i].isalnum() or g[i]==\" \":\n",
    "        pass\n",
    "    else:\n",
    "        count = count + 1\n",
    "if count == 0:\n",
    "    print(\"Given string does not contain special characters\")\n",
    "else:\n",
    "        print(\"Given string contains special characters\")"
   ]
  }
 ],
 "metadata": {
  "kernelspec": {
   "display_name": "Python 3 (ipykernel)",
   "language": "python",
   "name": "python3"
  },
  "language_info": {
   "codemirror_mode": {
    "name": "ipython",
    "version": 3
   },
   "file_extension": ".py",
   "mimetype": "text/x-python",
   "name": "python",
   "nbconvert_exporter": "python",
   "pygments_lexer": "ipython3",
   "version": "3.9.12"
  }
 },
 "nbformat": 4,
 "nbformat_minor": 5
}
